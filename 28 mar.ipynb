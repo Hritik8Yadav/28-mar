{
 "cells": [
  {
   "cell_type": "code",
   "execution_count": null,
   "id": "3b83300f-e859-4b67-8451-f44004668792",
   "metadata": {},
   "outputs": [],
   "source": [
    "'''Ans1: The Ridge regression is a type of regression in which the extra parameter is used with the cost function\n",
    "         to reduce the overfitting of the data. The overfitting is causeed when the model try to predict the values\n",
    "         of the train data as 100 percent and due to which the cost function become 0. This issue is eleminated by using\n",
    "         the Ridge model.\n",
    "         It is difference from the least square regression as in least square regression the model follow the principle of \n",
    "         zero error while the ridge regression model doesn't make the zero and add some to the cost function.\n",
    "'''"
   ]
  },
  {
   "cell_type": "code",
   "execution_count": null,
   "id": "87c6638a-b808-4c0e-ace6-f2a365387b68",
   "metadata": {},
   "outputs": [],
   "source": [
    "'''Ans2: The assumptions in ridge regression are:\n",
    "            \n",
    "            i.The features are independent of each other or in other way the features are not collinear of each other.\n",
    "            ii. The relation between the independent and dependent feature should be linear.\n",
    "            iii. The error should follow the normal distribution.\n",
    "'''"
   ]
  },
  {
   "cell_type": "code",
   "execution_count": null,
   "id": "d2bce3b7-5492-4e71-9482-67d5ca3d138a",
   "metadata": {},
   "outputs": [],
   "source": [
    "'''Ans3: The value of lambda can be easily selected by: \n",
    "            \n",
    "            Cross-validation: Cross-validation is a popular method for selecting the value of lambda in Ridge \n",
    "                              Regression. In this approach, the dataset is split into several subsets, and the \n",
    "                              model is trained on different subsets while testing on the remaining subset.\n",
    "            Grid-Search: In this technique the range of lambda is selected and then the evaluation of the accuracy\n",
    "                         is done then.\n",
    "'''"
   ]
  },
  {
   "cell_type": "code",
   "execution_count": null,
   "id": "283b561b-e382-47a3-910a-243d7a99af8d",
   "metadata": {},
   "outputs": [],
   "source": [
    "'''Ans4: Yes the Ridge regression model can be used for the feature selection. With the help of the hyper parameter\n",
    "         we can easily find the features with the extra relemvance. In the ridge model the coeffient of the \n",
    "         or slope of the features is decreased and the features with the extra importance is still greater then \n",
    "         zero by this way the model selects only the relevance features\n",
    "'''"
   ]
  },
  {
   "cell_type": "code",
   "execution_count": null,
   "id": "61cacb93-a526-4c1e-8ac4-01d353388cf1",
   "metadata": {},
   "outputs": [],
   "source": [
    "'''Ans5: Ridge Regression can be a useful tool for dealing with multicollinearity in regression analysis, as it \n",
    "         can produce more stable and reliable estimates of the coefficients compared to ordinary linear \n",
    "         regression. However, it is still important to identify and understand the sources of multicollinearity \n",
    "         in the dataset and consider other methods such as feature selection or data transformation to address it.\n",
    "'''"
   ]
  },
  {
   "cell_type": "code",
   "execution_count": null,
   "id": "35c4af37-3939-4006-a421-82aef5cc3556",
   "metadata": {},
   "outputs": [],
   "source": [
    "'''Ans6: The Ridge Regression can handle both the categorical as well as continusous data however the data first \n",
    "         need to convert in to encoded data by using the techniques such as the one hot encoding or the label \n",
    "         encoding\n",
    "'''"
   ]
  },
  {
   "cell_type": "code",
   "execution_count": null,
   "id": "21f26405-d153-43ce-be73-a1c441104b9a",
   "metadata": {},
   "outputs": [],
   "source": [
    "'''Ans7: The coefficient in the Ridge regression is slightly different from the linear regression model as in the\n",
    "         ridge regression the coefficient is shrinked and the model reduces the overfitting. This shrinks of the \n",
    "         magnitude is dependent on the hyper parameter lambda and larger is lambda the higher will be the shrink.\n",
    "'''"
   ]
  },
  {
   "cell_type": "code",
   "execution_count": null,
   "id": "a5cf783e-1fdb-47c5-baf2-6a4d46d6d8f7",
   "metadata": {},
   "outputs": [],
   "source": [
    "'''Ans8: The Ridge regression can be used for the time series data analysis however there are certain limitations \n",
    "         That need to be implemented on the data. such as the or the stats should remain constant over the time,\n",
    "         the independent and dependent variables should follow linear relation etc.\n",
    "'''"
   ]
  }
 ],
 "metadata": {
  "kernelspec": {
   "display_name": "Python 3 (ipykernel)",
   "language": "python",
   "name": "python3"
  },
  "language_info": {
   "codemirror_mode": {
    "name": "ipython",
    "version": 3
   },
   "file_extension": ".py",
   "mimetype": "text/x-python",
   "name": "python",
   "nbconvert_exporter": "python",
   "pygments_lexer": "ipython3",
   "version": "3.10.8"
  }
 },
 "nbformat": 4,
 "nbformat_minor": 5
}
